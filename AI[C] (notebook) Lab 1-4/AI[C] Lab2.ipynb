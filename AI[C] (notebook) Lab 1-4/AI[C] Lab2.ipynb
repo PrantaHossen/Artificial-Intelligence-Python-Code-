{
 "cells": [
  {
   "cell_type": "code",
   "execution_count": 2,
   "id": "c7bc7912",
   "metadata": {},
   "outputs": [
    {
     "name": "stdout",
     "output_type": "stream",
     "text": [
      "Welcome to Lab2\n"
     ]
    }
   ],
   "source": [
    "print(\"Welcome to Lab2\")"
   ]
  },
  {
   "cell_type": "markdown",
   "id": "41b12161",
   "metadata": {},
   "source": [
    "# AI Lab 2\n",
    "\n",
    "1. Data Types and Variables\n",
    "2. Operator(Arithemetic and Logical) and expression\n",
    "3. If else, if elif........ else\n",
    "4. Loop\n",
    "5. Functions"
   ]
  },
  {
   "cell_type": "markdown",
   "id": "c21bf168",
   "metadata": {},
   "source": [
    "# For Loop"
   ]
  },
  {
   "cell_type": "code",
   "execution_count": 9,
   "id": "5073a231",
   "metadata": {},
   "outputs": [
    {
     "name": "stdout",
     "output_type": "stream",
     "text": [
      "Hi 0\n",
      "Hi 1\n",
      "Hi 2\n",
      "Hi 3\n",
      "Hi 4\n"
     ]
    }
   ],
   "source": [
    "for i in range(5):\n",
    "    print(\"Hi \"+str(i))"
   ]
  },
  {
   "cell_type": "code",
   "execution_count": 11,
   "id": "74eac9ee",
   "metadata": {},
   "outputs": [
    {
     "name": "stdout",
     "output_type": "stream",
     "text": [
      "I love python\n",
      "I love python\n",
      "I love python\n",
      "I love python\n",
      "I love python\n"
     ]
    }
   ],
   "source": [
    "for _ in range(5):\n",
    "    print(\"I love python\")"
   ]
  },
  {
   "cell_type": "code",
   "execution_count": 12,
   "id": "24ceb18a",
   "metadata": {},
   "outputs": [
    {
     "name": "stdout",
     "output_type": "stream",
     "text": [
      "0\n",
      "1\n",
      "2\n",
      "3\n",
      "4\n"
     ]
    }
   ],
   "source": [
    "i =0\n",
    "while i<5:\n",
    "    print(i)\n",
    "    i = i+1"
   ]
  },
  {
   "cell_type": "code",
   "execution_count": 13,
   "id": "d159118f",
   "metadata": {},
   "outputs": [
    {
     "name": "stdout",
     "output_type": "stream",
     "text": [
      "10\n",
      "20\n",
      "30\n",
      "40\n",
      "50\n"
     ]
    }
   ],
   "source": [
    "List = [10,20,30,40,50]\n",
    "for i in range(len(List)):\n",
    "    print(List[i])"
   ]
  },
  {
   "cell_type": "code",
   "execution_count": 14,
   "id": "11c859db",
   "metadata": {},
   "outputs": [
    {
     "name": "stdout",
     "output_type": "stream",
     "text": [
      "[1, 2, 3, 4, 5]\n"
     ]
    }
   ],
   "source": [
    "List_1=[1,2,3,4,5]\n",
    "print(List_1)\n"
   ]
  },
  {
   "cell_type": "code",
   "execution_count": 15,
   "id": "40e063b3",
   "metadata": {},
   "outputs": [
    {
     "data": {
      "text/plain": [
       "[1, 2, 3, 4, 5, 40]"
      ]
     },
     "execution_count": 15,
     "metadata": {},
     "output_type": "execute_result"
    }
   ],
   "source": [
    "List_1.append(40)\n",
    "List_1"
   ]
  },
  {
   "cell_type": "code",
   "execution_count": 17,
   "id": "3c2053a2",
   "metadata": {},
   "outputs": [
    {
     "name": "stdout",
     "output_type": "stream",
     "text": [
      "[11, 22, 33, 44]\n"
     ]
    }
   ],
   "source": [
    "List_1=[1,2,3,4]\n",
    "List_2=[10,20,30,40]\n",
    "List_3=[]\n",
    "\n",
    "for i in range(len(List_1)):\n",
    "    List_3.append(List_1[i]+List_2[i])\n",
    "    \n",
    "print(List_3)"
   ]
  },
  {
   "cell_type": "markdown",
   "id": "49a8e86e",
   "metadata": {},
   "source": [
    "# Function"
   ]
  },
  {
   "cell_type": "code",
   "execution_count": 18,
   "id": "42cda723",
   "metadata": {},
   "outputs": [
    {
     "name": "stdout",
     "output_type": "stream",
     "text": [
      "102\n"
     ]
    }
   ],
   "source": [
    "# f(x)=x^2 +2\n",
    "\n",
    "def f(x):\n",
    "    return x**2+2\n",
    "\n",
    "print(f(10))"
   ]
  },
  {
   "cell_type": "code",
   "execution_count": 19,
   "id": "89aad2d9",
   "metadata": {},
   "outputs": [
    {
     "name": "stdout",
     "output_type": "stream",
     "text": [
      "30\n"
     ]
    }
   ],
   "source": [
    "def mySum(a,b):\n",
    "    return a+b\n",
    "\n",
    "print(mySum(10,20))\n",
    "    "
   ]
  },
  {
   "cell_type": "code",
   "execution_count": 20,
   "id": "6c458c7f",
   "metadata": {},
   "outputs": [
    {
     "name": "stdout",
     "output_type": "stream",
     "text": [
      "Hi Richard\n"
     ]
    }
   ],
   "source": [
    "def greet(name):\n",
    "    return \"Hi \"+name\n",
    "\n",
    "print(greet(\"Richard\"))"
   ]
  },
  {
   "cell_type": "code",
   "execution_count": 21,
   "id": "99a62c67",
   "metadata": {},
   "outputs": [
    {
     "name": "stdout",
     "output_type": "stream",
     "text": [
      "I love Python\n",
      "I love Bangladesh\n"
     ]
    }
   ],
   "source": [
    "def iLove(language, country):\n",
    "    print(\"I love \"+language+\"\\n\"+\"I love \"+country)\n",
    "    return\n",
    "iLove(\"Python\",\"Bangladesh\")"
   ]
  },
  {
   "cell_type": "code",
   "execution_count": 23,
   "id": "3a351487",
   "metadata": {},
   "outputs": [
    {
     "name": "stdout",
     "output_type": "stream",
     "text": [
      "I love Python\n",
      "I love Bangladesh\n"
     ]
    }
   ],
   "source": [
    "def iLove(language, country):\n",
    "    return \"I love \"+language+\"\\n\"+\"I love \"+country\n",
    "\n",
    "\n",
    "print(iLove(\"Python\",\"Bangladesh\"))"
   ]
  },
  {
   "cell_type": "code",
   "execution_count": 30,
   "id": "a7848efe",
   "metadata": {},
   "outputs": [
    {
     "name": "stdout",
     "output_type": "stream",
     "text": [
      "[33.33333333333333, 66.66666666666666]\n"
     ]
    }
   ],
   "source": [
    "def sumList(L):\n",
    "    s=0\n",
    "    for i in range(len(L)):\n",
    "        s=s+L[i]\n",
    "    return s\n",
    "\n",
    "\n",
    "def per(L_10):\n",
    "    s1 = sumList(L_10)\n",
    "    L_11=[]\n",
    "    for i in range(len(L_10)):\n",
    "        L_11.append((L_10[i]/s1)*100)\n",
    "    return L_11\n",
    "\n",
    "\n",
    "List_10=[10,20]\n",
    "print(per(List_10))\n"
   ]
  },
  {
   "cell_type": "code",
   "execution_count": 38,
   "id": "c779faa0",
   "metadata": {},
   "outputs": [
    {
     "name": "stdout",
     "output_type": "stream",
     "text": [
      "4 -100\n"
     ]
    }
   ],
   "source": [
    "def MIN(L):\n",
    "    index=0\n",
    "    minv=L[0]\n",
    "    for i in range(len(L)):\n",
    "        if L[i]<minv:\n",
    "            minv=L[i]\n",
    "            index=i\n",
    "    return index,minv\n",
    "    \n",
    "\n",
    "List=[10,20,30,40,-100,-30]\n",
    "i,minv = MIN(List)\n",
    "print(i,minv)\n",
    "    "
   ]
  },
  {
   "cell_type": "code",
   "execution_count": 62,
   "id": "37cbf5b4",
   "metadata": {},
   "outputs": [
    {
     "name": "stdout",
     "output_type": "stream",
     "text": [
      "[30, 40, 50, 0, 0]\n"
     ]
    }
   ],
   "source": [
    "def shiftLeft(L,k):\n",
    "    for j in range(k):\n",
    "        for i in range(len(L)-1):\n",
    "            L[i]=L[i+1]\n",
    "    \n",
    "    for i in range(len(L)-1,k,-1):\n",
    "        L[i]=0\n",
    "        \n",
    "    return L\n",
    "        \n",
    "List_100=[10,20,30,40,50]\n",
    "new_List= shiftLeft(List_100,2)\n",
    "print(new_List)"
   ]
  },
  {
   "cell_type": "code",
   "execution_count": 59,
   "id": "355838b0",
   "metadata": {},
   "outputs": [
    {
     "name": "stdout",
     "output_type": "stream",
     "text": [
      "40\n",
      "30\n"
     ]
    }
   ],
   "source": [
    "List=[10,20,30,40]\n",
    "k=2-1\n",
    "for i in range(len(List)-1,k,-1):\n",
    "    print(List[i])"
   ]
  },
  {
   "cell_type": "code",
   "execution_count": 49,
   "id": "4936bbe6",
   "metadata": {},
   "outputs": [
    {
     "name": "stdout",
     "output_type": "stream",
     "text": [
      "HI\n"
     ]
    }
   ],
   "source": [
    "print(\"HI\")"
   ]
  },
  {
   "cell_type": "code",
   "execution_count": null,
   "id": "d43ae39e",
   "metadata": {},
   "outputs": [],
   "source": []
  }
 ],
 "metadata": {
  "kernelspec": {
   "display_name": "Python 3 (ipykernel)",
   "language": "python",
   "name": "python3"
  },
  "language_info": {
   "codemirror_mode": {
    "name": "ipython",
    "version": 3
   },
   "file_extension": ".py",
   "mimetype": "text/x-python",
   "name": "python",
   "nbconvert_exporter": "python",
   "pygments_lexer": "ipython3",
   "version": "3.9.13"
  }
 },
 "nbformat": 4,
 "nbformat_minor": 5
}
