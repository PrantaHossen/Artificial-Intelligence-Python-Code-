{
 "cells": [
  {
   "cell_type": "code",
   "execution_count": 2,
   "id": "eefddc4a",
   "metadata": {},
   "outputs": [
    {
     "name": "stdout",
     "output_type": "stream",
     "text": [
      "Welcome to Lab2\n"
     ]
    }
   ],
   "source": [
    "print(\"Welcome to Lab2\")"
   ]
  },
  {
   "cell_type": "markdown",
   "id": "cfcf624b",
   "metadata": {},
   "source": [
    "# AI Lab 2\n",
    "\n",
    "1. Data Types and Variables\n",
    "2. Operator(Arithemetic and Logical) and expression\n",
    "3. If else, if elif........ else\n",
    "4. Loop\n",
    "5. Functions"
   ]
  },
  {
   "cell_type": "markdown",
   "id": "95fc47da",
   "metadata": {},
   "source": [
    "# For Loop"
   ]
  },
  {
   "cell_type": "code",
   "execution_count": 9,
   "id": "0398d17d",
   "metadata": {},
   "outputs": [
    {
     "name": "stdout",
     "output_type": "stream",
     "text": [
      "Hi 0\n",
      "Hi 1\n",
      "Hi 2\n",
      "Hi 3\n",
      "Hi 4\n"
     ]
    }
   ],
   "source": [
    "for i in range(5):\n",
    "    print(\"Hi \"+str(i))"
   ]
  },
  {
   "cell_type": "code",
   "execution_count": 11,
   "id": "16aebcc5",
   "metadata": {},
   "outputs": [
    {
     "name": "stdout",
     "output_type": "stream",
     "text": [
      "I love python\n",
      "I love python\n",
      "I love python\n",
      "I love python\n",
      "I love python\n"
     ]
    }
   ],
   "source": [
    "for _ in range(5):\n",
    "    print(\"I love python\")"
   ]
  },
  {
   "cell_type": "code",
   "execution_count": 12,
   "id": "7a1189ea",
   "metadata": {},
   "outputs": [
    {
     "name": "stdout",
     "output_type": "stream",
     "text": [
      "0\n",
      "1\n",
      "2\n",
      "3\n",
      "4\n"
     ]
    }
   ],
   "source": [
    "i =0\n",
    "while i<5:\n",
    "    print(i)\n",
    "    i = i+1"
   ]
  },
  {
   "cell_type": "code",
   "execution_count": 13,
   "id": "6f623313",
   "metadata": {},
   "outputs": [
    {
     "name": "stdout",
     "output_type": "stream",
     "text": [
      "10\n",
      "20\n",
      "30\n",
      "40\n",
      "50\n"
     ]
    }
   ],
   "source": [
    "List = [10,20,30,40,50]\n",
    "for i in range(len(List)):\n",
    "    print(List[i])"
   ]
  },
  {
   "cell_type": "code",
   "execution_count": 14,
   "id": "21ff361d",
   "metadata": {},
   "outputs": [
    {
     "name": "stdout",
     "output_type": "stream",
     "text": [
      "[1, 2, 3, 4, 5]\n"
     ]
    }
   ],
   "source": [
    "List_1=[1,2,3,4,5]\n",
    "print(List_1)\n"
   ]
  },
  {
   "cell_type": "code",
   "execution_count": 15,
   "id": "23c2ad12",
   "metadata": {},
   "outputs": [
    {
     "data": {
      "text/plain": [
       "[1, 2, 3, 4, 5, 40]"
      ]
     },
     "execution_count": 15,
     "metadata": {},
     "output_type": "execute_result"
    }
   ],
   "source": [
    "List_1.append(40)\n",
    "List_1"
   ]
  },
  {
   "cell_type": "code",
   "execution_count": 17,
   "id": "e87378f1",
   "metadata": {},
   "outputs": [
    {
     "name": "stdout",
     "output_type": "stream",
     "text": [
      "[11, 22, 33, 44]\n"
     ]
    }
   ],
   "source": [
    "List_1=[1,2,3,4]\n",
    "List_2=[10,20,30,40]\n",
    "List_3=[]\n",
    "\n",
    "for i in range(len(List_1)):\n",
    "    List_3.append(List_1[i]+List_2[i])\n",
    "    \n",
    "print(List_3)"
   ]
  },
  {
   "cell_type": "markdown",
   "id": "c49a7b25",
   "metadata": {},
   "source": [
    "# Function"
   ]
  },
  {
   "cell_type": "code",
   "execution_count": 18,
   "id": "773ea42b",
   "metadata": {},
   "outputs": [
    {
     "name": "stdout",
     "output_type": "stream",
     "text": [
      "102\n"
     ]
    }
   ],
   "source": [
    "# f(x)=x^2 +2\n",
    "\n",
    "def f(x):\n",
    "    return x**2+2\n",
    "\n",
    "print(f(10))"
   ]
  },
  {
   "cell_type": "code",
   "execution_count": 19,
   "id": "10885159",
   "metadata": {},
   "outputs": [
    {
     "name": "stdout",
     "output_type": "stream",
     "text": [
      "30\n"
     ]
    }
   ],
   "source": [
    "def mySum(a,b):\n",
    "    return a+b\n",
    "\n",
    "print(mySum(10,20))\n",
    "    "
   ]
  },
  {
   "cell_type": "code",
   "execution_count": 20,
   "id": "9c36cde7",
   "metadata": {},
   "outputs": [
    {
     "name": "stdout",
     "output_type": "stream",
     "text": [
      "Hi Richard\n"
     ]
    }
   ],
   "source": [
    "def greet(name):\n",
    "    return \"Hi \"+name\n",
    "\n",
    "print(greet(\"Richard\"))"
   ]
  },
  {
   "cell_type": "code",
   "execution_count": 21,
   "id": "ed54ffec",
   "metadata": {},
   "outputs": [
    {
     "name": "stdout",
     "output_type": "stream",
     "text": [
      "I love Python\n",
      "I love Bangladesh\n"
     ]
    }
   ],
   "source": [
    "def iLove(language, country):\n",
    "    print(\"I love \"+language+\"\\n\"+\"I love \"+country)\n",
    "    return\n",
    "iLove(\"Python\",\"Bangladesh\")"
   ]
  },
  {
   "cell_type": "code",
   "execution_count": 23,
   "id": "dec545e5",
   "metadata": {},
   "outputs": [
    {
     "name": "stdout",
     "output_type": "stream",
     "text": [
      "I love Python\n",
      "I love Bangladesh\n"
     ]
    }
   ],
   "source": [
    "def iLove(language, country):\n",
    "    return \"I love \"+language+\"\\n\"+\"I love \"+country\n",
    "\n",
    "\n",
    "print(iLove(\"Python\",\"Bangladesh\"))"
   ]
  },
  {
   "cell_type": "code",
   "execution_count": 30,
   "id": "ed38adc0",
   "metadata": {},
   "outputs": [
    {
     "name": "stdout",
     "output_type": "stream",
     "text": [
      "[33.33333333333333, 66.66666666666666]\n"
     ]
    }
   ],
   "source": [
    "def sumList(L):\n",
    "    s=0\n",
    "    for i in range(len(L)):\n",
    "        s=s+L[i]\n",
    "    return s\n",
    "\n",
    "\n",
    "def per(L_10):\n",
    "    s1 = sumList(L_10)\n",
    "    L_11=[]\n",
    "    for i in range(len(L_10)):\n",
    "        L_11.append((L_10[i]/s1)*100)\n",
    "    return L_11\n",
    "\n",
    "\n",
    "List_10=[10,20]\n",
    "print(per(List_10))\n"
   ]
  },
  {
   "cell_type": "code",
   "execution_count": null,
   "id": "ff412fe6",
   "metadata": {},
   "outputs": [],
   "source": [
    "def MIN(L):\n",
    "    \n",
    "    \n",
    "\n",
    "List=[10,20,30,40,-10,-30]\n",
    "    "
   ]
  }
 ],
 "metadata": {
  "kernelspec": {
   "display_name": "Python 3 (ipykernel)",
   "language": "python",
   "name": "python3"
  },
  "language_info": {
   "codemirror_mode": {
    "name": "ipython",
    "version": 3
   },
   "file_extension": ".py",
   "mimetype": "text/x-python",
   "name": "python",
   "nbconvert_exporter": "python",
   "pygments_lexer": "ipython3",
   "version": "3.9.13"
  }
 },
 "nbformat": 4,
 "nbformat_minor": 5
}
