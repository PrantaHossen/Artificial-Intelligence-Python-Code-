{
 "cells": [
  {
   "cell_type": "markdown",
   "id": "c432eb7b",
   "metadata": {},
   "source": [
    "# Numpy"
   ]
  },
  {
   "cell_type": "code",
   "execution_count": 1,
   "id": "8334d9b4",
   "metadata": {},
   "outputs": [
    {
     "name": "stdout",
     "output_type": "stream",
     "text": [
      "[10 20 30 40]\n"
     ]
    }
   ],
   "source": [
    "import numpy as np\n",
    "\n",
    "a = np.array([10,20,30,40])\n",
    "print(a)"
   ]
  },
  {
   "cell_type": "code",
   "execution_count": 2,
   "id": "d6a74a07",
   "metadata": {},
   "outputs": [
    {
     "data": {
      "text/plain": [
       "numpy.ndarray"
      ]
     },
     "execution_count": 2,
     "metadata": {},
     "output_type": "execute_result"
    }
   ],
   "source": [
    "type(a)"
   ]
  },
  {
   "cell_type": "code",
   "execution_count": 3,
   "id": "76c5d300",
   "metadata": {},
   "outputs": [
    {
     "name": "stdout",
     "output_type": "stream",
     "text": [
      "(4,)\n"
     ]
    }
   ],
   "source": [
    "print(a.shape)"
   ]
  },
  {
   "cell_type": "code",
   "execution_count": 4,
   "id": "f4d6b68f",
   "metadata": {},
   "outputs": [
    {
     "name": "stdout",
     "output_type": "stream",
     "text": [
      "[0 1 2 3 4 5 6 7 8 9]\n"
     ]
    }
   ],
   "source": [
    "vector = np.arange(10)\n",
    "print(vector)"
   ]
  },
  {
   "cell_type": "code",
   "execution_count": 7,
   "id": "21e3ae0e",
   "metadata": {},
   "outputs": [
    {
     "name": "stdout",
     "output_type": "stream",
     "text": [
      "[[3666 4899 3226]\n",
      " [6080 4749 3387]]\n"
     ]
    }
   ],
   "source": [
    "vector1 = np.random.randint(10000,size=(2,3))\n",
    "print(vector1)"
   ]
  },
  {
   "cell_type": "code",
   "execution_count": 9,
   "id": "69e4c53e",
   "metadata": {},
   "outputs": [
    {
     "name": "stdout",
     "output_type": "stream",
     "text": [
      "[[0. 0. 0.]\n",
      " [0. 0. 0.]]\n"
     ]
    }
   ],
   "source": [
    "A= np.zeros([2,3])\n",
    "print(A)"
   ]
  },
  {
   "cell_type": "code",
   "execution_count": 10,
   "id": "692e78a8",
   "metadata": {},
   "outputs": [
    {
     "name": "stdout",
     "output_type": "stream",
     "text": [
      "[[1. 1. 1.]\n",
      " [1. 1. 1.]\n",
      " [1. 1. 1.]\n",
      " [1. 1. 1.]]\n"
     ]
    }
   ],
   "source": [
    "B=np.ones([4,3])\n",
    "print(B)"
   ]
  },
  {
   "cell_type": "code",
   "execution_count": 17,
   "id": "96c189d5",
   "metadata": {},
   "outputs": [
    {
     "name": "stdout",
     "output_type": "stream",
     "text": [
      "[[1. 0. 0. 0. 0.]\n",
      " [0. 1. 0. 0. 0.]\n",
      " [0. 0. 1. 0. 0.]\n",
      " [0. 0. 0. 1. 0.]]\n"
     ]
    }
   ],
   "source": [
    "C=np.eye(4,5)\n",
    "print(C)"
   ]
  },
  {
   "cell_type": "code",
   "execution_count": 36,
   "id": "5820a339",
   "metadata": {},
   "outputs": [
    {
     "name": "stdout",
     "output_type": "stream",
     "text": [
      "3\n",
      "<class 'numpy.ndarray'>\n"
     ]
    }
   ],
   "source": [
    "A= np.random.rand(4,3,2)\n",
    "print(A.ndim)\n",
    "print(type(A))"
   ]
  },
  {
   "cell_type": "code",
   "execution_count": 19,
   "id": "4ad5d4d5",
   "metadata": {},
   "outputs": [
    {
     "name": "stdout",
     "output_type": "stream",
     "text": [
      "[[0.06761439 0.95309146 0.9135809  0.86912236 0.98311128]\n",
      " [0.93074767 0.83753137 0.86821903 0.28340861 0.56964052]\n",
      " [0.50114127 0.65874421 0.71541415 0.67493602 0.44753122]\n",
      " [0.01642991 0.04917198 0.09868321 0.59525491 0.52492355]]\n"
     ]
    }
   ],
   "source": []
  },
  {
   "cell_type": "code",
   "execution_count": 29,
   "id": "1e30f3c9",
   "metadata": {},
   "outputs": [
    {
     "name": "stdout",
     "output_type": "stream",
     "text": [
      "[94 10 76  7 64 94 33 23 36 76 39 74 73 45 14]\n",
      "[64 94 33 23]\n"
     ]
    }
   ],
   "source": [
    "A=np.random.randint(100,size=(15))\n",
    "print(A)\n",
    "print(A[4:8])"
   ]
  },
  {
   "cell_type": "code",
   "execution_count": 38,
   "id": "01385718",
   "metadata": {},
   "outputs": [
    {
     "name": "stdout",
     "output_type": "stream",
     "text": [
      "[0.   0.25 0.5  0.75 1.  ]\n"
     ]
    }
   ],
   "source": [
    "x = np.linspace(0,1,5)\n",
    "print(x)"
   ]
  },
  {
   "cell_type": "code",
   "execution_count": 40,
   "id": "c2cfa936",
   "metadata": {},
   "outputs": [
    {
     "name": "stdout",
     "output_type": "stream",
     "text": [
      "[25 87 12  1 73]\n",
      "[58 79 22 18 85]\n"
     ]
    }
   ],
   "source": [
    "v1 = np.random.randint(100,size=(5))\n",
    "print(v1)\n",
    "v2 = np.random.randint(100,size=(5))\n",
    "print(v2)"
   ]
  },
  {
   "cell_type": "code",
   "execution_count": 45,
   "id": "d13eee45",
   "metadata": {},
   "outputs": [
    {
     "name": "stdout",
     "output_type": "stream",
     "text": [
      "[1450 6873  264   18 6205]\n",
      "198\n"
     ]
    }
   ],
   "source": [
    "print(v1*v2)\n",
    "print(np.sum(v1))"
   ]
  },
  {
   "cell_type": "code",
   "execution_count": 42,
   "id": "3df827bc",
   "metadata": {},
   "outputs": [
    {
     "name": "stdout",
     "output_type": "stream",
     "text": [
      "[-33   8 -10 -17 -12]\n"
     ]
    }
   ],
   "source": [
    "print(v1-v2)"
   ]
  },
  {
   "cell_type": "code",
   "execution_count": 58,
   "id": "17d7bef7",
   "metadata": {},
   "outputs": [
    {
     "name": "stdout",
     "output_type": "stream",
     "text": [
      "4.47213595499958\n"
     ]
    },
    {
     "data": {
      "text/plain": [
       "<matplotlib.collections.PathCollection at 0x1c57e5b82b0>"
      ]
     },
     "execution_count": 58,
     "metadata": {},
     "output_type": "execute_result"
    },
    {
     "data": {
      "image/png": "[encoded data removed]",
      "text/plain": [
       "<Figure size 640x480 with 1 Axes>"
      ]
     },
     "metadata": {},
     "output_type": "display_data"
    }
   ],
   "source": [
    "p = np.array([-1,4])\n",
    "q = np.array([3,6])\n",
    "x = np.sqrt(np.sum((p-q)**2))\n",
    "print(x)\n",
    "\n",
    "import matplotlib.pyplot as plt\n",
    "plt.scatter(p,q)"
   ]
  },
  {
   "cell_type": "code",
   "execution_count": 65,
   "id": "5a7a7436",
   "metadata": {},
   "outputs": [
    {
     "name": "stdout",
     "output_type": "stream",
     "text": [
      "[[0. 0. 0. 0. 0.]\n",
      " [0. 1. 1. 1. 0.]\n",
      " [0. 1. 1. 1. 0.]\n",
      " [0. 0. 0. 0. 0.]]\n",
      "[[1. 1. 1.]\n",
      " [1. 1. 1.]]\n"
     ]
    }
   ],
   "source": [
    "matrix= np.zeros([4,5])\n",
    "matrix[1:3,1:4]=1\n",
    "print(matrix)\n",
    "newm = matrix[1:3,1:4]\n",
    "print(newm)"
   ]
  },
  {
   "cell_type": "code",
   "execution_count": 67,
   "id": "16785637",
   "metadata": {},
   "outputs": [
    {
     "name": "stdout",
     "output_type": "stream",
     "text": [
      "[0 1 2 3 4 5 6 7 8 9]\n",
      "[[0 1 2 3 4]\n",
      " [5 6 7 8 9]]\n"
     ]
    }
   ],
   "source": [
    "a = np.arange(10)\n",
    "m = a.reshape(2,5)\n",
    "print(a)\n",
    "print(m)"
   ]
  },
  {
   "cell_type": "code",
   "execution_count": 73,
   "id": "cc8be887",
   "metadata": {},
   "outputs": [
    {
     "name": "stdout",
     "output_type": "stream",
     "text": [
      "[[1 6 6]\n",
      " [7 3 7]]\n",
      "[[4 2 5]\n",
      " [6 5 9]]\n"
     ]
    }
   ],
   "source": [
    "A = np.random.randint(10,size=(2,3))\n",
    "print(A)\n",
    "B = np.random.randint(10,size=(2,3))\n",
    "print(B)"
   ]
  },
  {
   "cell_type": "code",
   "execution_count": 77,
   "id": "1b114715",
   "metadata": {},
   "outputs": [
    {
     "name": "stdout",
     "output_type": "stream",
     "text": [
      "[[3 0 3]\n",
      " [9 9 1]]\n",
      "[[7 5 4 8]\n",
      " [6 8 4 6]\n",
      " [4 3 3 7]]\n",
      "[[ 33  24  21  45]\n",
      " [121 120  75 133]]\n"
     ]
    }
   ],
   "source": [
    "A = np.random.randint(10,size=(2,3))\n",
    "print(A)\n",
    "B = np.random.randint(10,size=(3,4))\n",
    "print(B)\n",
    "print(np.dot(A,B))"
   ]
  },
  {
   "cell_type": "code",
   "execution_count": 104,
   "id": "2058d151",
   "metadata": {},
   "outputs": [
    {
     "name": "stdout",
     "output_type": "stream",
     "text": [
      "-4 -2.5 -2.05 -2.000609756097561 -2.0000000929222947 -2.000000000000002 -2.0 -2.0 -2.0 -2.0 -2.0 -2.0 -2.0 -2.0 -2.0 -2.0 -2.0 -2.0 -2.0 -2.0 -2.0 -2.0 -2.0 -2.0 -2.0 -2.0 -2.0 -2.0 -2.0 -2.0 -2.0 -2.0 -2.0 -2.0 -2.0 -2.0 -2.0 -2.0 -2.0 -2.0 -2.0 -2.0 -2.0 -2.0 -2.0 -2.0 -2.0 -2.0 -2.0 -2.0 -2.0 -2.0 -2.0 -2.0 -2.0 -2.0 -2.0 -2.0 -2.0 -2.0 -2.0 -2.0 -2.0 -2.0 -2.0 -2.0 -2.0 -2.0 -2.0 -2.0 -2.0 -2.0 -2.0 -2.0 -2.0 -2.0 -2.0 -2.0 -2.0 -2.0 -2.0 -2.0 -2.0 -2.0 -2.0 -2.0 -2.0 -2.0 -2.0 -2.0 -2.0 -2.0 -2.0 -2.0 -2.0 -2.0 -2.0 -2.0 -2.0 -2.0 -2.0\n"
     ]
    },
    {
     "data": {
      "image/png": "[encoded data removed]",
      "text/plain": [
       "<Figure size 640x480 with 1 Axes>"
      ]
     },
     "metadata": {},
     "output_type": "display_data"
    }
   ],
   "source": [
    "def f(x):\n",
    "    return x**2-4\n",
    "\n",
    "def df(x):\n",
    "    return 2*x\n",
    "    \n",
    "x_0=-4\n",
    "\n",
    "for i in range(100):\n",
    "    print(x_0,end=\" \")\n",
    "    x_1= (x_0-(f(x_0)/df(x_0)))\n",
    "    x_0=x_1\n",
    "\n",
    "print(x_0)\n",
    "x=np.linspace(-7,7,200)\n",
    "y = f(x)\n",
    "plt.plot(x,y)\n",
    "plt.grid()"
   ]
  },
  {
   "cell_type": "code",
   "execution_count": 134,
   "id": "61043798",
   "metadata": {},
   "outputs": [
    {
     "name": "stdout",
     "output_type": "stream",
     "text": [
      "0.6637438770865584\n",
      "0.18408537856233187\n",
      "0.6876491809202432\n",
      "0.9839035396247263\n",
      "0.09819222141586859\n",
      "0.3954557483091471\n"
     ]
    }
   ],
   "source": [
    "A= np.random.rand(2,3)\n",
    "\n",
    "for i in range(2):\n",
    "    for j in range(3):\n",
    "        print(A[i,j])"
   ]
  },
  {
   "cell_type": "markdown",
   "id": "2dd495c2",
   "metadata": {},
   "source": [
    "# File operation\n"
   ]
  },
  {
   "cell_type": "code",
   "execution_count": 112,
   "id": "c0b908da",
   "metadata": {},
   "outputs": [],
   "source": [
    "f = open(\"Hi.txt\",\"w\") # r-read, w - write, a-append\n",
    "f.write(\"Hi, I love AI\")\n",
    "f.close()"
   ]
  },
  {
   "cell_type": "code",
   "execution_count": 123,
   "id": "75163490",
   "metadata": {},
   "outputs": [],
   "source": [
    "L1=[10,20,30,40]\n",
    "L2=[1,2,3,4]\n",
    "f=open(\"L.txt\",\"w\")\n",
    "\n",
    "for i in range(len(L)):\n",
    "    f.write(str(L1[i])+\" \"+str(L2[i])+\"\\n\")\n",
    "f.close()\n"
   ]
  },
  {
   "cell_type": "code",
   "execution_count": 129,
   "id": "db0caf95",
   "metadata": {},
   "outputs": [
    {
     "name": "stdout",
     "output_type": "stream",
     "text": [
      "[10, 20, 30, 40]\n",
      "[1, 2, 3, 4]\n"
     ]
    }
   ],
   "source": [
    "f = open(\"L.txt\",\"r\")\n",
    "l1=[]\n",
    "l2=[]\n",
    "for line in f:\n",
    "    l=line.split()\n",
    "    l1.append(int(l[0]))\n",
    "    l2.append(int(l[1]))\n",
    "\n",
    "print(l1)\n",
    "print(l2)\n",
    "\n"
   ]
  },
  {
   "cell_type": "code",
   "execution_count": 130,
   "id": "9fd0d937",
   "metadata": {},
   "outputs": [
    {
     "name": "stdout",
     "output_type": "stream",
     "text": [
      "[0 1 2 3 4 5 6 7 8 9]\n"
     ]
    }
   ],
   "source": [
    "v1=np.arange(10)\n",
    "print(v1)"
   ]
  },
  {
   "cell_type": "code",
   "execution_count": 131,
   "id": "b38bf7e0",
   "metadata": {},
   "outputs": [],
   "source": [
    "np.save(\"n.txt\",v1)"
   ]
  },
  {
   "cell_type": "code",
   "execution_count": null,
   "id": "fd470e92",
   "metadata": {},
   "outputs": [],
   "source": []
  }
 ],
 "metadata": {
  "kernelspec": {
   "display_name": "Python 3 (ipykernel)",
   "language": "python",
   "name": "python3"
  },
  "language_info": {
   "codemirror_mode": {
    "name": "ipython",
    "version": 3
   },
   "file_extension": ".py",
   "mimetype": "text/x-python",
   "name": "python",
   "nbconvert_exporter": "python",
   "pygments_lexer": "ipython3",
   "version": "3.9.13"
  }
 },
 "nbformat": 4,
 "nbformat_minor": 5
}
