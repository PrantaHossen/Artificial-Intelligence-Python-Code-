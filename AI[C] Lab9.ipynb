{
 "cells": [
  {
   "cell_type": "markdown",
   "id": "79cda123",
   "metadata": {},
   "source": [
    "# UCS Using Adjacency List"
   ]
  },
  {
   "cell_type": "code",
   "execution_count": 7,
   "id": "98b8bb33",
   "metadata": {},
   "outputs": [
    {
     "name": "stdout",
     "output_type": "stream",
     "text": [
      "5 7 [[0, 1, 3], [0, 3, 7], [0, 4, 8], [1, 3, 4], [1, 2, 1], [2, 3, 2], [3, 4, 3]]\n",
      "{0: [(1, 3), (3, 7), (4, 8)], 1: [(0, 3), (3, 4), (2, 1)], 2: [(1, 1), (3, 2)], 3: [(0, 7), (1, 4), (2, 2), (4, 3)], 4: [(0, 8), (3, 3)]}\n",
      "[0, 0]\n",
      "0\n",
      "[3, 1]\n",
      "1\n",
      "[4, 2]\n",
      "2\n",
      "The shortest path cost between 0 and 2 is 4.\n"
     ]
    }
   ],
   "source": [
    "def readGraphData(file):\n",
    "    f=open(file,\"r\")\n",
    "\n",
    "    graph=[]\n",
    "    \n",
    "    vertexAndEdge=f.readline()\n",
    "    v = int(vertexAndEdge.split()[0])\n",
    "    e = int(vertexAndEdge.split()[1])\n",
    "    #print(vertexAndEdge)\n",
    "    \n",
    "    for line in f.readlines():\n",
    "        #print(line)\n",
    "        row=[]\n",
    "        row.append(int(line.split()[0]))\n",
    "        row.append(int(line.split()[1]))\n",
    "        row.append(int(line.split()[2]))\n",
    "        graph.append(row)\n",
    "    return v,e,graph\n",
    "\n",
    "\n",
    "def printList(vertex,adj):\n",
    "    for i in range(vertex):\n",
    "        print(str(i)+\"-> \",end=\" \")\n",
    "        print(adj[i])\n",
    "\n",
    "def adjacencyList(vertex,graph):\n",
    "    adj={}\n",
    "\n",
    "    for i in range(vertex):\n",
    "        adj[i]=[]\n",
    "\n",
    "    for e in range(len(graph)):\n",
    "        u=graph[e][0]\n",
    "        v=graph[e][1]\n",
    "        w=graph[e][2]\n",
    "        adj[u].append((v,w))\n",
    "        adj[v].append((u,w))\n",
    "    return adj\n",
    "\n",
    "import queue\n",
    "\n",
    "def heuristic(n):\n",
    "    H_dist = {\n",
    "        0 : 5,\n",
    "        1 : 2,\n",
    "        2 : 0,\n",
    "        3 : 2,\n",
    "        4 : 6,\n",
    "    }\n",
    "    return H_dist[n]\n",
    "def ucs(graph, start, goal):\n",
    "    \n",
    "    q =queue.PriorityQueue()\n",
    "    \n",
    "    q.put((0, start))\n",
    "    visited = set()\n",
    " \n",
    "    while q:\n",
    "        costnode = list(q.get())\n",
    "        print(costnode)\n",
    "        cost = costnode[0]\n",
    "        node = costnode[1]\n",
    "        print(node)\n",
    "        if node == goal:\n",
    "            return cost\n",
    " \n",
    "        if node not in visited:\n",
    "            visited.add(node)\n",
    " \n",
    "            for neighbor, neighbor_cost in graph[node]:\n",
    "                if neighbor not in visited:\n",
    "                    q.put((cost + neighbor_cost, neighbor))\n",
    " \n",
    "    return float('inf')\n",
    " \n",
    "\n",
    "vertex,edge,graph=readGraphData(\"Weighted-Graph.txt\")\n",
    "print(vertex,edge,graph)\n",
    "adj=adjacencyList(vertex,graph)\n",
    "#printList(vertex,adj)\n",
    "print(adj)\n",
    "s = 0\n",
    "g = 2\n",
    "shortest_path_cost = ucs(adj, s, g)\n",
    "print(f\"The shortest path cost between {s} and {g} is {shortest_path_cost}.\")"
   ]
  },
  {
   "cell_type": "markdown",
   "id": "21959b8a",
   "metadata": {},
   "source": [
    "# UCS using adjacency Matrix"
   ]
  },
  {
   "cell_type": "markdown",
   "id": "b93d6d80",
   "metadata": {},
   "source": [
    "# Best First Search f(n)=h(n)\n",
    "# A*   f(n)"
   ]
  }
 ],
 "metadata": {
  "kernelspec": {
   "display_name": "Python 3 (ipykernel)",
   "language": "python",
   "name": "python3"
  },
  "language_info": {
   "codemirror_mode": {
    "name": "ipython",
    "version": 3
   },
   "file_extension": ".py",
   "mimetype": "text/x-python",
   "name": "python",
   "nbconvert_exporter": "python",
   "pygments_lexer": "ipython3",
   "version": "3.9.13"
  }
 },
 "nbformat": 4,
 "nbformat_minor": 5
}
