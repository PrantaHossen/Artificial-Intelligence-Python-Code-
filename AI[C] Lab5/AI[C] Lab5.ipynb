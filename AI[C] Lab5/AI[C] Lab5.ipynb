{
 "cells": [
  {
   "cell_type": "markdown",
   "id": "7d81159d",
   "metadata": {},
   "source": [
    "# Newton Rapson Algorithm\n",
    "\n",
    "X<sub>n+1</sub> = X<sub>n</sub>-f(x)/f<sup>`</sup>(x)"
   ]
  },
  {
   "cell_type": "code",
   "execution_count": 9,
   "id": "1c8a7b61",
   "metadata": {},
   "outputs": [
    {
     "name": "stdout",
     "output_type": "stream",
     "text": [
      "0.3507810593582122\n"
     ]
    },
    {
     "data": {
      "image/png": "[encoded data removed]",
      "text/plain": [
       "<Figure size 640x480 with 1 Axes>"
      ]
     },
     "metadata": {},
     "output_type": "display_data"
    }
   ],
   "source": [
    "import numpy as np\n",
    "import matplotlib.pyplot as plt\n",
    "\n",
    "\n",
    "def f(x):\n",
    "    return 2*x**2+5*x-2\n",
    "\n",
    "def df(x):\n",
    "    return 4*x+5\n",
    "\n",
    "def newton_rapson(n,initial):\n",
    "    x_0=initial\n",
    "    for i in range(n):\n",
    "        x_1=x_0-(f(x_0)/df(x_0))\n",
    "        x_0=x_1\n",
    "    return x_0\n",
    "    \n",
    "\n",
    "root= newton_rapson(100,0)\n",
    "print(root)\n",
    "\n",
    "\n",
    "xpoints=np.linspace(-5,5,1000)\n",
    "ypoints=f(xpoints)\n",
    "plt.plot(xpoints,ypoints)\n",
    "plt.grid()"
   ]
  },
  {
   "cell_type": "markdown",
   "id": "c276fac6",
   "metadata": {},
   "source": [
    "# Graph data from file"
   ]
  },
  {
   "cell_type": "code",
   "execution_count": 30,
   "id": "05cc12ad",
   "metadata": {},
   "outputs": [
    {
     "name": "stdout",
     "output_type": "stream",
     "text": [
      "7 11\n",
      "[0, 0, 0, 0, 0, 0, 0]\n",
      "[0, 0, 0, 0, 0, 0, 0]\n",
      "[0, 0, 0, 0, 0, 0, 0]\n",
      "[0, 0, 0, 0, 0, 0, 0]\n",
      "[0, 0, 0, 0, 0, 0, 0]\n",
      "[0, 0, 0, 0, 0, 0, 0]\n",
      "[0, 0, 0, 0, 0, 0, 0]\n",
      "\n",
      "[0, 1, 0, 1, 0, 0, 0]\n",
      "[1, 0, 1, 1, 0, 1, 1]\n",
      "[0, 1, 0, 1, 1, 1, 0]\n",
      "[1, 1, 1, 0, 1, 0, 0]\n",
      "[0, 0, 1, 1, 0, 0, 1]\n",
      "[0, 1, 1, 0, 0, 0, 0]\n",
      "[0, 1, 0, 0, 1, 0, 0]\n",
      "\n"
     ]
    }
   ],
   "source": [
    "def readGraphData(file):\n",
    "    f=open(file,\"r\")\n",
    "\n",
    "    graph=[]\n",
    "\n",
    "    for line in f.readlines():\n",
    "        row=[]\n",
    "        row.append(int(line.split()[0]))\n",
    "        row.append(int(line.split()[1]))\n",
    "        graph.append(row)\n",
    "    return graph\n",
    "\n",
    "def createZeroMatrix(vertex):\n",
    "    matrix=[]\n",
    "    for i in range(vertex):\n",
    "        row=[]\n",
    "        for j in range(vertex):\n",
    "            row.append(0)\n",
    "        matrix.append(row)\n",
    "    return matrix\n",
    "\n",
    "def printMatrix(matrix):\n",
    "    for i in matrix:\n",
    "        print(i,end=\"\\n\")\n",
    "    print()\n",
    "\n",
    "def addEdges(graph,matrix):\n",
    "    for e in range(1,len(graph),1):\n",
    "        u=graph[e][0]\n",
    "        v=graph[e][1]\n",
    "        matrix[u][v]=1\n",
    "        matrix[v][u]=1\n",
    "    return matrix\n",
    "    \n",
    "\n",
    "graph=readGraphData(\"graph.txt\")\n",
    "\n",
    "vertex=graph[0][0]\n",
    "edges=graph[0][1]\n",
    "print(vertex,edges)\n",
    "\n",
    "matrix=createZeroMatrix(vertex)\n",
    "printMatrix(matrix)\n",
    "matrix=addEdges(graph,matrix)\n",
    "printMatrix(matrix)\n",
    "    \n",
    "\n",
    "    \n",
    "\n"
   ]
  },
  {
   "cell_type": "code",
   "execution_count": null,
   "id": "6de758e6",
   "metadata": {},
   "outputs": [],
   "source": []
  }
 ],
 "metadata": {
  "kernelspec": {
   "display_name": "Python 3 (ipykernel)",
   "language": "python",
   "name": "python3"
  },
  "language_info": {
   "codemirror_mode": {
    "name": "ipython",
    "version": 3
   },
   "file_extension": ".py",
   "mimetype": "text/x-python",
   "name": "python",
   "nbconvert_exporter": "python",
   "pygments_lexer": "ipython3",
   "version": "3.9.13"
  }
 },
 "nbformat": 4,
 "nbformat_minor": 5
}
