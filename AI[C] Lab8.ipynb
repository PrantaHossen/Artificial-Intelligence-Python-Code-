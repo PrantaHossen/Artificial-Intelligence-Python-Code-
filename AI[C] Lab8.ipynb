{
 "cells": [
  {
   "cell_type": "markdown",
   "id": "0a40c310",
   "metadata": {},
   "source": [
    "# Weighted Graph using Adjacency Matrix"
   ]
  },
  {
   "cell_type": "code",
   "execution_count": 17,
   "id": "2179462f",
   "metadata": {},
   "outputs": [
    {
     "name": "stdout",
     "output_type": "stream",
     "text": [
      "[0, 3, 0, 7, 8]\n",
      "[3, 0, 1, 4, 0]\n",
      "[0, 1, 0, 2, 0]\n",
      "[7, 4, 2, 0, 3]\n",
      "[8, 0, 0, 3, 0]\n",
      "\n"
     ]
    }
   ],
   "source": [
    "def readGraphData(file):\n",
    "    f=open(file,\"r\")\n",
    "\n",
    "    graph=[]\n",
    "    \n",
    "    vertexAndEdge=f.readline()\n",
    "    v = int(vertexAndEdge.split()[0])\n",
    "    e = int(vertexAndEdge.split()[1])\n",
    "    #print(vertexAndEdge)\n",
    "    \n",
    "    for line in f.readlines():\n",
    "        #print(line)\n",
    "        row=[]\n",
    "        row.append(int(line.split()[0]))\n",
    "        row.append(int(line.split()[1]))\n",
    "        row.append(int(line.split()[2]))\n",
    "        graph.append(row)\n",
    "    return v,e,graph\n",
    "\n",
    "def createZeroMatrix(vertex):\n",
    "    matrix=[]\n",
    "    for i in range(vertex):\n",
    "        row=[]\n",
    "        for j in range(vertex):\n",
    "            row.append(0)\n",
    "        matrix.append(row)\n",
    "    return matrix\n",
    "\n",
    "def printMatrix(matrix):\n",
    "    for i in matrix:\n",
    "        print(i,end=\"\\n\")\n",
    "    print()\n",
    "\n",
    "def addEdges(graph,matrix):\n",
    "    for e in range(len(graph)):\n",
    "        u=graph[e][0]\n",
    "        v=graph[e][1]\n",
    "        w =graph[e][2]\n",
    "        matrix[u][v]=w\n",
    "        matrix[v][u]=w\n",
    "    return matrix\n",
    "\n",
    "vertex,edge,graph=readGraphData(\"Weighted-Graph.txt\")\n",
    "#print(vertex,edge,graph)\n",
    "M=createZeroMatrix(vertex)\n",
    "M= addEdges(graph,M)\n",
    "printMatrix(M)"
   ]
  },
  {
   "cell_type": "markdown",
   "id": "a660afec",
   "metadata": {},
   "source": [
    "# Weighted Graph using Adjacency List"
   ]
  },
  {
   "cell_type": "code",
   "execution_count": 29,
   "id": "33c17746",
   "metadata": {},
   "outputs": [
    {
     "name": "stdout",
     "output_type": "stream",
     "text": [
      "5 7 [[0, 1, 3], [0, 3, 7], [0, 4, 8], [1, 3, 4], [1, 2, 1], [2, 3, 2], [3, 4, 3]]\n",
      "{0: [(1, 3), (3, 7), (4, 8)], 1: [(0, 3), (3, 4), (2, 1)], 2: [(1, 1), (3, 2)], 3: [(0, 7), (1, 4), (2, 2), (4, 3)], 4: [(0, 8), (3, 3)]}\n"
     ]
    }
   ],
   "source": [
    "def readGraphData(file):\n",
    "    f=open(file,\"r\")\n",
    "\n",
    "    graph=[]\n",
    "    \n",
    "    vertexAndEdge=f.readline()\n",
    "    v = int(vertexAndEdge.split()[0])\n",
    "    e = int(vertexAndEdge.split()[1])\n",
    "    #print(vertexAndEdge)\n",
    "    \n",
    "    for line in f.readlines():\n",
    "        #print(line)\n",
    "        row=[]\n",
    "        row.append(int(line.split()[0]))\n",
    "        row.append(int(line.split()[1]))\n",
    "        row.append(int(line.split()[2]))\n",
    "        graph.append(row)\n",
    "    return v,e,graph\n",
    "\n",
    "\n",
    "def printList(vertex,adj):\n",
    "    for i in range(vertex):\n",
    "        print(str(i)+\"-> \",end=\" \")\n",
    "        print(adj[i])\n",
    "\n",
    "def adjacencyList(vertex,graph):\n",
    "    adj={}\n",
    "\n",
    "    for i in range(vertex):\n",
    "        adj[i]=[]\n",
    "\n",
    "    for e in range(len(graph)):\n",
    "        u=graph[e][0]\n",
    "        v=graph[e][1]\n",
    "        w=graph[e][2]\n",
    "        adj[u].append((v,w))\n",
    "        adj[v].append((u,w))\n",
    "    return adj\n",
    "\n",
    "def ucs(g,s,d):\n",
    "    \n",
    "    \n",
    "        \n",
    "vertex,edge,graph=readGraphData(\"Weighted-Graph.txt\")\n",
    "print(vertex,edge,graph)\n",
    "adj=adjacencyList(vertex,graph)\n",
    "#printList(vertex,adj)\n",
    "print(adj)\n",
    "ucs(adj,0,4)"
   ]
  },
  {
   "cell_type": "code",
   "execution_count": null,
   "id": "1405cc10",
   "metadata": {},
   "outputs": [],
   "source": []
  }
 ],
 "metadata": {
  "kernelspec": {
   "display_name": "Python 3 (ipykernel)",
   "language": "python",
   "name": "python3"
  },
  "language_info": {
   "codemirror_mode": {
    "name": "ipython",
    "version": 3
   },
   "file_extension": ".py",
   "mimetype": "text/x-python",
   "name": "python",
   "nbconvert_exporter": "python",
   "pygments_lexer": "ipython3",
   "version": "3.9.13"
  }
 },
 "nbformat": 4,
 "nbformat_minor": 5
}
